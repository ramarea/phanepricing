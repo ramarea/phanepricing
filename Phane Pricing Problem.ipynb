{
 "cells": [
  {
   "cell_type": "markdown",
   "metadata": {},
   "source": [
    "# Phane Pricing Problem\n",
    "\n",
    "Description: I recently encountered an advertisement for phane in a Botswana based Facebook group, with the following (quantity, price) pairs: $(50\\text{kg}, \\text{BWP}1,500)$, $(20\\text{kg}, \\text{BWP}450)$, $(9\\text{kg}, \\text{BWP}225)$, and $(5\\text{kg}, \\text{BWP}150)$. My curious mind could not help but estimate the cost per kilogram under each bundle. I quickly realized that the 5kg and 50kg bundles had the same cost per kilogram. My intuition for these kinds of bundled pricing is that the larger bundles should be cheaper than the smaller ones. Although the entrepreneur behind the ad was not receptive to this feedback, I will not let it go to waste. I am going to use it to create an original analysis for my GitHub portfolio answering the question: How much should the 50kg bundle be sold for?\n",
    "\n",
    "A key assumption I am going to make is that the entrepreneur wants to price discriminate. Therefore, whatever price we get for the 50kg should not lead to a situation where an individual with a demand for the 50kg bundle can purchase some combination of the other bundles at a lower price than they would the 50kg bundle. At the current prices, we observe that an individual with a demand for the 50kg bundle can get it for cheaper by buying a combination of the other bundles. As an example, they can buy 2 20kg bundles and 2 5kg bundles for $2\\times(\\text{BWP}450) + 2(\\text{BWP}(150) = \\text{BWP}1,200$, which is strictly less than the BWP1,500 price tag of the 50kg bundle. (In fact, they can consume more than their demand for less than the BWP1,500 if they purchase 3 of the 20kg bundle because $3\\times(\\text{BWP}450) = \\text{BWP}1,350 < \\text{BWP}1,500$. The price we get should not allow for any other bundle to erode the demand for the 50kg bundle. \n",
    "\n",
    "This write-up is intended to demonstrate how I think through solving a problem and is therefore not intended as a report or presentation to an audience, especially a non-technical one. If I have more time down the road, I might consider creating a presentation for a non-technical audience of this analysis. \n",
    "\n",
    "## Additional Information\n",
    "\n",
    "Phane is a seasonal caterpillar that feeds primarily on the leaves of the Mophane tree in Southern Africa and is a local delicacy. \n",
    "\n",
    "Although irrelevant to the problem, USDBWP exchange rate on the day of this analysis was USD 1 = BWP 11.07. \n",
    "\n",
    "My intution that larger bundles should be cheaper than smaller ones is linked to the length of time it takes to convert inventory to cash and time value of money. "
   ]
  },
  {
   "cell_type": "markdown",
   "metadata": {},
   "source": [
    "## Analysis\n",
    "\n",
    "I begin the analysis by importing relevant packages. It goes without saying that Pandas, Numpy, Pyplot, and SKLearn are the bread and butter of an analysis of this nature. "
   ]
  },
  {
   "cell_type": "code",
   "execution_count": 1,
   "metadata": {},
   "outputs": [],
   "source": [
    "import pandas as pd\n",
    "import numpy as np\n",
    "import matplotlib.pyplot as plt\n",
    "from sklearn.linear_model import LinearRegression\n",
    "from scipy.optimize import curve_fit"
   ]
  },
  {
   "cell_type": "markdown",
   "metadata": {},
   "source": [
    "The first step is to store the (quantity, price) pairs in a data frame. "
   ]
  },
  {
   "cell_type": "code",
   "execution_count": 2,
   "metadata": {},
   "outputs": [
    {
     "data": {
      "text/html": [
       "<div>\n",
       "<style scoped>\n",
       "    .dataframe tbody tr th:only-of-type {\n",
       "        vertical-align: middle;\n",
       "    }\n",
       "\n",
       "    .dataframe tbody tr th {\n",
       "        vertical-align: top;\n",
       "    }\n",
       "\n",
       "    .dataframe thead th {\n",
       "        text-align: right;\n",
       "    }\n",
       "</style>\n",
       "<table border=\"1\" class=\"dataframe\">\n",
       "  <thead>\n",
       "    <tr style=\"text-align: right;\">\n",
       "      <th></th>\n",
       "      <th>Size in Kilograms</th>\n",
       "      <th>Price per Kilogram in BWP</th>\n",
       "    </tr>\n",
       "  </thead>\n",
       "  <tbody>\n",
       "    <tr>\n",
       "      <th>0</th>\n",
       "      <td>5</td>\n",
       "      <td>30.0</td>\n",
       "    </tr>\n",
       "    <tr>\n",
       "      <th>1</th>\n",
       "      <td>9</td>\n",
       "      <td>25.0</td>\n",
       "    </tr>\n",
       "    <tr>\n",
       "      <th>2</th>\n",
       "      <td>20</td>\n",
       "      <td>22.5</td>\n",
       "    </tr>\n",
       "    <tr>\n",
       "      <th>3</th>\n",
       "      <td>50</td>\n",
       "      <td>30.0</td>\n",
       "    </tr>\n",
       "  </tbody>\n",
       "</table>\n",
       "</div>"
      ],
      "text/plain": [
       "   Size in Kilograms  Price per Kilogram in BWP\n",
       "0                  5                       30.0\n",
       "1                  9                       25.0\n",
       "2                 20                       22.5\n",
       "3                 50                       30.0"
      ]
     },
     "execution_count": 2,
     "metadata": {},
     "output_type": "execute_result"
    }
   ],
   "source": [
    "df = pd.DataFrame(data={'Size in Kilograms': [5, 9, 20, 50], 'Price per Kilogram in BWP': [30, 25, 22.5, 30]})\n",
    "df"
   ]
  },
  {
   "cell_type": "markdown",
   "metadata": {},
   "source": [
    "Next I plot the data in the dataframe to confirm my suspicion that there is an anomaly with the price of the 50kg bundle. "
   ]
  },
  {
   "cell_type": "code",
   "execution_count": 3,
   "metadata": {},
   "outputs": [
    {
     "data": {
      "image/png": "[encoded data removed]",
      "text/plain": [
       "<Figure size 432x288 with 1 Axes>"
      ]
     },
     "metadata": {
      "needs_background": "light"
     },
     "output_type": "display_data"
    }
   ],
   "source": [
    "df.plot(x = 'Size in Kilograms', y = 'Price per Kilogram in BWP', kind = 'line')\n",
    "plt.show()"
   ]
  },
  {
   "cell_type": "markdown",
   "metadata": {},
   "source": [
    "From our plot, and disregarding the 50kg bundle, we observe that as the size of the bundle increases, the cost per kilogram decreases. The first question that I can think of is how the cost is decreasing. I naively choose to assume at this point that the cost decreases linearly. I fit a linear model to the data - excluding the 50kg bundle because it is what we want to predict."
   ]
  },
  {
   "cell_type": "code",
   "execution_count": 4,
   "metadata": {},
   "outputs": [],
   "source": [
    "model = LinearRegression()\n",
    "model.fit(df.iloc[0:3, 0].values.reshape(-1, 1), df.iloc[0:3, 1].values.reshape(-1, 1))\n",
    "preds = model.predict([[5],[9],[20],[50]]) # Note to self: Scalability"
   ]
  },
  {
   "cell_type": "markdown",
   "metadata": {},
   "source": [
    "I predict new prices for all the bundles based on the Linear Model we fitted. I add them to our data frame. "
   ]
  },
  {
   "cell_type": "code",
   "execution_count": 5,
   "metadata": {
    "scrolled": true
   },
   "outputs": [
    {
     "data": {
      "text/html": [
       "<div>\n",
       "<style scoped>\n",
       "    .dataframe tbody tr th:only-of-type {\n",
       "        vertical-align: middle;\n",
       "    }\n",
       "\n",
       "    .dataframe tbody tr th {\n",
       "        vertical-align: top;\n",
       "    }\n",
       "\n",
       "    .dataframe thead th {\n",
       "        text-align: right;\n",
       "    }\n",
       "</style>\n",
       "<table border=\"1\" class=\"dataframe\">\n",
       "  <thead>\n",
       "    <tr style=\"text-align: right;\">\n",
       "      <th></th>\n",
       "      <th>Size in Kilograms</th>\n",
       "      <th>Price per Kilogram in BWP</th>\n",
       "      <th>LM Prices per Kilogram in BWP</th>\n",
       "    </tr>\n",
       "  </thead>\n",
       "  <tbody>\n",
       "    <tr>\n",
       "      <th>0</th>\n",
       "      <td>5</td>\n",
       "      <td>30.0</td>\n",
       "      <td>28.632597</td>\n",
       "    </tr>\n",
       "    <tr>\n",
       "      <th>1</th>\n",
       "      <td>9</td>\n",
       "      <td>25.0</td>\n",
       "      <td>26.864641</td>\n",
       "    </tr>\n",
       "    <tr>\n",
       "      <th>2</th>\n",
       "      <td>20</td>\n",
       "      <td>22.5</td>\n",
       "      <td>22.002762</td>\n",
       "    </tr>\n",
       "    <tr>\n",
       "      <th>3</th>\n",
       "      <td>50</td>\n",
       "      <td>30.0</td>\n",
       "      <td>8.743094</td>\n",
       "    </tr>\n",
       "  </tbody>\n",
       "</table>\n",
       "</div>"
      ],
      "text/plain": [
       "   Size in Kilograms  Price per Kilogram in BWP  LM Prices per Kilogram in BWP\n",
       "0                  5                       30.0                      28.632597\n",
       "1                  9                       25.0                      26.864641\n",
       "2                 20                       22.5                      22.002762\n",
       "3                 50                       30.0                       8.743094"
      ]
     },
     "execution_count": 5,
     "metadata": {},
     "output_type": "execute_result"
    }
   ],
   "source": [
    "df['LM Prices per Kilogram in BWP'] = [preds[i,0] for i in range(4)]\n",
    "df"
   ]
  },
  {
   "cell_type": "markdown",
   "metadata": {},
   "source": [
    "For comparison, I plot the predicted prices alongside the original prices. This visualization is enough for us to question whether a linear model is the best way to model this problem. Intuitively, BWP8.74 per kilogram for the 50kg bundle seems like too cheap a price. "
   ]
  },
  {
   "cell_type": "code",
   "execution_count": 6,
   "metadata": {},
   "outputs": [
    {
     "data": {
      "image/png": "[encoded data removed]",
      "text/plain": [
       "<Figure size 432x288 with 1 Axes>"
      ]
     },
     "metadata": {
      "needs_background": "light"
     },
     "output_type": "display_data"
    }
   ],
   "source": [
    "df.plot(x = 'Size in Kilograms', y = ['Price per Kilogram in BWP', 'LM Prices per Kilogram in BWP'], kind = 'line')\n",
    "plt.show()"
   ]
  },
  {
   "cell_type": "markdown",
   "metadata": {},
   "source": [
    "I will state without proof the fact that the only way to avoid a situation where other bundles cannibalize the market share of the 50kg bundle, the cost per kilogram must strictly decrease as the size increases. This is the case with our naive linear model above and therefore it is 'acceptable'. This means our next best guess is to try an exponentially decaying model. \n",
    "\n",
    "As I do not have experience working with exponential regression, I drew inspiration from a snippet of code by the Indian Institute of Science Education and Research in Pune, India. Their code can be found at http://www.iiserpune.ac.in/~cathale/lects/bio322-phybio1/2015bio322/exponFitTest2.py. I also drew inspiration from this YouTube video: https://www.youtube.com/watch?v=4vryPwLtjIY&ab_channel=APMonitor.com. \n",
    "\n",
    "Unfortunately, the method did not work because the covariance of my parameters could not be estimated. In the interest of time, I am flagging this as an area for growth and will return to it later to learn about exponential regression and understand the error. My initial guess is because I am using only 3 data points, they are too few to yield any useful results. \n",
    "\n",
    "To move forward, I use the Desmos Online Graphing calculator to plot the 3 data points and use trial and error to fit an exponential decay function to it. This works well since I only have 3 data points. Recall that an exponential decay function is\n",
    "\n",
    "$$y = a + b\\cdot e^{-(cx+d)}$$\n",
    "\n",
    "where $a,b,c,d$ are parameters of the function and $x$ is the covariate. $a$ is the asymptotic value of the covariate that the function decays to, $b$ and $c$ determine the curvature of the curve, and $d$ shifts the curve along the x-axis. Using trial and error we get the function to be about:\n",
    "\n",
    "$$y = 22 +  e^{-(0.2x-3)}$$\n",
    "\n",
    "I could use SciPy's optimize function to get the optimal parameters, but this is nothing more than a Sunday evening cure for boredom. (I will return later to do this).\n",
    "\n",
    "The original data can be decomposed into the following piecewise function:\n",
    "\n",
    "$$\n",
    "y =\n",
    "\\begin{cases}\n",
    "    -1.2x + 36.25 & \\text{for } 5 \\leq x \\leq 9\\\\\n",
    "    \\frac{-5x + 595}{22}  & \\text{for } 9 \\leq x \\leq 20\n",
    "\\end{cases}\n",
    "$$"
   ]
  },
  {
   "cell_type": "code",
   "execution_count": 7,
   "metadata": {},
   "outputs": [
    {
     "data": {
      "image/png": "[encoded data removed]",
      "text/plain": [
       "<Figure size 432x288 with 1 Axes>"
      ]
     },
     "metadata": {
      "needs_background": "light"
     },
     "output_type": "display_data"
    }
   ],
   "source": [
    "def func(x):\n",
    "    return 22 + np.exp(-0.2*x +3)\n",
    "\n",
    "x = [i for i in range(5,21)]\n",
    "y = [(-1.2*i + 36.25) if i < 10 else ((-5*i+595)/22) for i in x]\n",
    "\n",
    "fits = [func(i) for i in x]\n",
    "\n",
    "plt.plot(x,y)\n",
    "plt.plot(x,fits)\n",
    "plt.title('Phane Bundle Pricing Plots')\n",
    "plt.xlabel('Phane Bundle Size in kg')\n",
    "plt.ylabel('Price Per Kg in BWP')\n",
    "plt.show()"
   ]
  },
  {
   "cell_type": "markdown",
   "metadata": {},
   "source": [
    "We see that the exponential curve fairly approximates the trend of the price per kilogram. We use that function to predict the price per kilogram for the 50kg bundle. "
   ]
  },
  {
   "cell_type": "code",
   "execution_count": 8,
   "metadata": {},
   "outputs": [
    {
     "data": {
      "text/plain": [
       "22.000911881965553"
      ]
     },
     "execution_count": 8,
     "metadata": {},
     "output_type": "execute_result"
    }
   ],
   "source": [
    "query = 50\n",
    "price_per_kg = func(query)\n",
    "price_per_kg"
   ]
  },
  {
   "cell_type": "markdown",
   "metadata": {},
   "source": [
    "We get BWP22 per kilogram. We multiply this by 50kg to get the recommended price for that bundle."
   ]
  },
  {
   "cell_type": "code",
   "execution_count": 9,
   "metadata": {},
   "outputs": [
    {
     "data": {
      "text/plain": [
       "1100.0455940982777"
      ]
     },
     "execution_count": 9,
     "metadata": {},
     "output_type": "execute_result"
    }
   ],
   "source": [
    "price = price_per_kg * query\n",
    "price"
   ]
  },
  {
   "cell_type": "markdown",
   "metadata": {},
   "source": [
    "The entrepreneur should sell the 50kg bundle for BWP1,100. "
   ]
  },
  {
   "cell_type": "code",
   "execution_count": 10,
   "metadata": {},
   "outputs": [
    {
     "data": {
      "text/html": [
       "<div>\n",
       "<style scoped>\n",
       "    .dataframe tbody tr th:only-of-type {\n",
       "        vertical-align: middle;\n",
       "    }\n",
       "\n",
       "    .dataframe tbody tr th {\n",
       "        vertical-align: top;\n",
       "    }\n",
       "\n",
       "    .dataframe thead th {\n",
       "        text-align: right;\n",
       "    }\n",
       "</style>\n",
       "<table border=\"1\" class=\"dataframe\">\n",
       "  <thead>\n",
       "    <tr style=\"text-align: right;\">\n",
       "      <th></th>\n",
       "      <th>Size in Kilograms</th>\n",
       "      <th>Price per Kilogram in BWP</th>\n",
       "      <th>LM Prices per Kilogram in BWP</th>\n",
       "      <th>EM Prices per Kilogram in BWP</th>\n",
       "      <th>Recommended Bundle Price (BWP)</th>\n",
       "    </tr>\n",
       "  </thead>\n",
       "  <tbody>\n",
       "    <tr>\n",
       "      <th>0</th>\n",
       "      <td>5</td>\n",
       "      <td>30.0</td>\n",
       "      <td>28.632597</td>\n",
       "      <td>29.389056</td>\n",
       "      <td>150</td>\n",
       "    </tr>\n",
       "    <tr>\n",
       "      <th>1</th>\n",
       "      <td>9</td>\n",
       "      <td>25.0</td>\n",
       "      <td>26.864641</td>\n",
       "      <td>25.320117</td>\n",
       "      <td>225</td>\n",
       "    </tr>\n",
       "    <tr>\n",
       "      <th>2</th>\n",
       "      <td>20</td>\n",
       "      <td>22.5</td>\n",
       "      <td>22.002762</td>\n",
       "      <td>22.367879</td>\n",
       "      <td>450</td>\n",
       "    </tr>\n",
       "    <tr>\n",
       "      <th>3</th>\n",
       "      <td>50</td>\n",
       "      <td>30.0</td>\n",
       "      <td>8.743094</td>\n",
       "      <td>22.000912</td>\n",
       "      <td>1100</td>\n",
       "    </tr>\n",
       "  </tbody>\n",
       "</table>\n",
       "</div>"
      ],
      "text/plain": [
       "   Size in Kilograms  Price per Kilogram in BWP  \\\n",
       "0                  5                       30.0   \n",
       "1                  9                       25.0   \n",
       "2                 20                       22.5   \n",
       "3                 50                       30.0   \n",
       "\n",
       "   LM Prices per Kilogram in BWP  EM Prices per Kilogram in BWP  \\\n",
       "0                      28.632597                      29.389056   \n",
       "1                      26.864641                      25.320117   \n",
       "2                      22.002762                      22.367879   \n",
       "3                       8.743094                      22.000912   \n",
       "\n",
       "   Recommended Bundle Price (BWP)  \n",
       "0                             150  \n",
       "1                             225  \n",
       "2                             450  \n",
       "3                            1100  "
      ]
     },
     "execution_count": 10,
     "metadata": {},
     "output_type": "execute_result"
    }
   ],
   "source": [
    "df['EM Prices per Kilogram in BWP'] = [func(5), func(9), func(20), func(50)]\n",
    "df['Recommended Bundle Price (BWP)'] = [150, 225, 450, 1100]\n",
    "df"
   ]
  },
  {
   "cell_type": "code",
   "execution_count": null,
   "metadata": {},
   "outputs": [],
   "source": []
  }
 ],
 "metadata": {
  "kernelspec": {
   "display_name": "Python 3",
   "language": "python",
   "name": "python3"
  },
  "language_info": {
   "codemirror_mode": {
    "name": "ipython",
    "version": 3
   },
   "file_extension": ".py",
   "mimetype": "text/x-python",
   "name": "python",
   "nbconvert_exporter": "python",
   "pygments_lexer": "ipython3",
   "version": "3.8.5"
  }
 },
 "nbformat": 4,
 "nbformat_minor": 4
}
