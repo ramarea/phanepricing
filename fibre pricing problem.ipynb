{
 "cells": [
  {
   "cell_type": "markdown",
   "metadata": {},
   "source": [
    "# Fibre2u Pricing Problem\n",
    "\n",
    "Description: Similar to the Phane Pricing Problem I recently did, I am bothered by pricing strategies that are not internally consistent. I came across an advertisement for unlimited internet sold by fibre2usolutions in Botswana at different speeds. They have the following (speed, price) pairs: $(5\\text{Mbps}, \\text{BWP}450)$, $(10\\text{Mbps}, \\text{BWP}840)$, $(25\\text{Mbps}, \\text{BWP}1030)$, and $(50\\text{Mbps}, \\text{BWP}1950)$. With the Phane problem, the inconsistency came from the last price being an outlier. In this case, there is no clear outlier but the pricing strategy is still internally inconsistent. \n",
    "\n",
    "A key assumption I am going to make is that the business wants to price discriminate in such a way that eliminates the consumer surplus. This problem is different from the Phane problem in two significant ways: first the product itself is unlimited and the different bundle options are non-additive. This means if I wanted an internet with 10Mbps speed, I cannot achieve that by buying two 5Mbps subscriptions. The question this brief analysis will attempt to ask is how should fibre2usolutions price its different packages such that their pricing strategy is internally consistent? \n",
    "\n",
    "This write-up is intended to demonstrate how I think through solving a problem and is therefore not intended as a report or presentation to an audience, especially a non-technical one. If I have more time down the road, I might consider creating a presentation for a non-technical audience of this analysis. "
   ]
  },
  {
   "cell_type": "code",
   "execution_count": 58,
   "metadata": {},
   "outputs": [],
   "source": [
    "import pandas as pd # For dataframe manipulations\n",
    "import numpy as np # For basic numerical algebra stuff\n",
    "import matplotlib.pyplot as plt # for plots\n",
    "from sklearn.linear_model import LinearRegression # For fitting Linear Models\n",
    "from scipy.optimize import curve_fit # For fitting an Exponential Model"
   ]
  },
  {
   "cell_type": "markdown",
   "metadata": {},
   "source": [
    "The first step is to store the (speed, price) pairs in a data frame. "
   ]
  },
  {
   "cell_type": "code",
   "execution_count": 59,
   "metadata": {},
   "outputs": [
    {
     "data": {
      "text/html": [
       "<div>\n",
       "<style scoped>\n",
       "    .dataframe tbody tr th:only-of-type {\n",
       "        vertical-align: middle;\n",
       "    }\n",
       "\n",
       "    .dataframe tbody tr th {\n",
       "        vertical-align: top;\n",
       "    }\n",
       "\n",
       "    .dataframe thead th {\n",
       "        text-align: right;\n",
       "    }\n",
       "</style>\n",
       "<table border=\"1\" class=\"dataframe\">\n",
       "  <thead>\n",
       "    <tr style=\"text-align: right;\">\n",
       "      <th></th>\n",
       "      <th>Internet Speed in Mbps</th>\n",
       "      <th>Bundle Price in BWP</th>\n",
       "      <th>Price per Mbps in BWP</th>\n",
       "    </tr>\n",
       "  </thead>\n",
       "  <tbody>\n",
       "    <tr>\n",
       "      <th>0</th>\n",
       "      <td>5</td>\n",
       "      <td>450</td>\n",
       "      <td>90.0</td>\n",
       "    </tr>\n",
       "    <tr>\n",
       "      <th>1</th>\n",
       "      <td>10</td>\n",
       "      <td>840</td>\n",
       "      <td>84.0</td>\n",
       "    </tr>\n",
       "    <tr>\n",
       "      <th>2</th>\n",
       "      <td>25</td>\n",
       "      <td>1030</td>\n",
       "      <td>41.2</td>\n",
       "    </tr>\n",
       "    <tr>\n",
       "      <th>3</th>\n",
       "      <td>50</td>\n",
       "      <td>1950</td>\n",
       "      <td>39.0</td>\n",
       "    </tr>\n",
       "  </tbody>\n",
       "</table>\n",
       "</div>"
      ],
      "text/plain": [
       "   Internet Speed in Mbps  Bundle Price in BWP  Price per Mbps in BWP\n",
       "0                       5                  450                   90.0\n",
       "1                      10                  840                   84.0\n",
       "2                      25                 1030                   41.2\n",
       "3                      50                 1950                   39.0"
      ]
     },
     "execution_count": 59,
     "metadata": {},
     "output_type": "execute_result"
    }
   ],
   "source": [
    "df = pd.DataFrame(data={'Internet Speed in Mbps': [5, 10, 25, 50], 'Bundle Price in BWP': [450, 840, 1030, 1950]})\n",
    "df['Price per Mbps in BWP'] = df['Bundle Price in BWP']/df['Internet Speed in Mbps']\n",
    "df"
   ]
  },
  {
   "cell_type": "markdown",
   "metadata": {},
   "source": [
    "Next I plot the data in the dataframe to confirm my suspicion that the pricing strategy is not internally consistent."
   ]
  },
  {
   "cell_type": "code",
   "execution_count": 60,
   "metadata": {},
   "outputs": [
    {
     "data": {
      "image/png": "[encoded data removed]",
      "text/plain": [
       "<Figure size 432x288 with 1 Axes>"
      ]
     },
     "metadata": {
      "needs_background": "light"
     },
     "output_type": "display_data"
    }
   ],
   "source": [
    "df.plot(x = 'Internet Speed in Mbps', y = 'Price per Mbps in BWP', kind = 'line')\n",
    "plt.show()"
   ]
  },
  {
   "cell_type": "markdown",
   "metadata": {},
   "source": [
    "From our plot, we notice that as the speed increases, the price per Mbps decreases. In that sense, my suspicion that the pricing strategy is not internally consistent is wrong. The prices are behaving as one would expect. However, we can observe from the plot that the change in price per Mbps is not prortional at different speeds. What if we fit a Linear Regression model such that the decrease in price per Mbps as speed increase is linear?"
   ]
  },
  {
   "cell_type": "code",
   "execution_count": 61,
   "metadata": {},
   "outputs": [],
   "source": [
    "model = LinearRegression()\n",
    "model.fit(df.iloc[0:4, 0].values.reshape(-1, 1), df.iloc[0:4, 2].values.reshape(-1, 1))\n",
    "preds = model.predict([[5],[10],[25],[50]]) # Note to self: Scalability"
   ]
  },
  {
   "cell_type": "markdown",
   "metadata": {},
   "source": [
    "I predict new prices for all the bundles based on the Linear Model we fitted. I add them to our data frame. "
   ]
  },
  {
   "cell_type": "code",
   "execution_count": 62,
   "metadata": {
    "scrolled": true
   },
   "outputs": [
    {
     "data": {
      "text/html": [
       "<div>\n",
       "<style scoped>\n",
       "    .dataframe tbody tr th:only-of-type {\n",
       "        vertical-align: middle;\n",
       "    }\n",
       "\n",
       "    .dataframe tbody tr th {\n",
       "        vertical-align: top;\n",
       "    }\n",
       "\n",
       "    .dataframe thead th {\n",
       "        text-align: right;\n",
       "    }\n",
       "</style>\n",
       "<table border=\"1\" class=\"dataframe\">\n",
       "  <thead>\n",
       "    <tr style=\"text-align: right;\">\n",
       "      <th></th>\n",
       "      <th>Internet Speed in Mbps</th>\n",
       "      <th>Bundle Price in BWP</th>\n",
       "      <th>Price per Mbps in BWP</th>\n",
       "      <th>LM Prices per Mbps in BWP</th>\n",
       "    </tr>\n",
       "  </thead>\n",
       "  <tbody>\n",
       "    <tr>\n",
       "      <th>0</th>\n",
       "      <td>5</td>\n",
       "      <td>450</td>\n",
       "      <td>90.0</td>\n",
       "      <td>84.257143</td>\n",
       "    </tr>\n",
       "    <tr>\n",
       "      <th>1</th>\n",
       "      <td>10</td>\n",
       "      <td>840</td>\n",
       "      <td>84.0</td>\n",
       "      <td>78.340816</td>\n",
       "    </tr>\n",
       "    <tr>\n",
       "      <th>2</th>\n",
       "      <td>25</td>\n",
       "      <td>1030</td>\n",
       "      <td>41.2</td>\n",
       "      <td>60.591837</td>\n",
       "    </tr>\n",
       "    <tr>\n",
       "      <th>3</th>\n",
       "      <td>50</td>\n",
       "      <td>1950</td>\n",
       "      <td>39.0</td>\n",
       "      <td>31.010204</td>\n",
       "    </tr>\n",
       "  </tbody>\n",
       "</table>\n",
       "</div>"
      ],
      "text/plain": [
       "   Internet Speed in Mbps  Bundle Price in BWP  Price per Mbps in BWP  \\\n",
       "0                       5                  450                   90.0   \n",
       "1                      10                  840                   84.0   \n",
       "2                      25                 1030                   41.2   \n",
       "3                      50                 1950                   39.0   \n",
       "\n",
       "   LM Prices per Mbps in BWP  \n",
       "0                  84.257143  \n",
       "1                  78.340816  \n",
       "2                  60.591837  \n",
       "3                  31.010204  "
      ]
     },
     "execution_count": 62,
     "metadata": {},
     "output_type": "execute_result"
    }
   ],
   "source": [
    "df['LM Prices per Mbps in BWP'] = [preds[i,0] for i in range(4)]\n",
    "df"
   ]
  },
  {
   "cell_type": "markdown",
   "metadata": {},
   "source": [
    "For comparison, I plot the predicted prices alongside the original prices. "
   ]
  },
  {
   "cell_type": "code",
   "execution_count": 63,
   "metadata": {},
   "outputs": [
    {
     "data": {
      "image/png": "[encoded data removed]",
      "text/plain": [
       "<Figure size 432x288 with 1 Axes>"
      ]
     },
     "metadata": {
      "needs_background": "light"
     },
     "output_type": "display_data"
    }
   ],
   "source": [
    "df.plot(x = 'Internet Speed in Mbps', y = ['Price per Mbps in BWP', 'LM Prices per Mbps in BWP'], kind = 'line')\n",
    "plt.show()"
   ]
  },
  {
   "cell_type": "markdown",
   "metadata": {},
   "source": [
    "Next we consider an exponential fit on the data. "
   ]
  },
  {
   "cell_type": "code",
   "execution_count": 64,
   "metadata": {},
   "outputs": [
    {
     "data": {
      "text/html": [
       "<div>\n",
       "<style scoped>\n",
       "    .dataframe tbody tr th:only-of-type {\n",
       "        vertical-align: middle;\n",
       "    }\n",
       "\n",
       "    .dataframe tbody tr th {\n",
       "        vertical-align: top;\n",
       "    }\n",
       "\n",
       "    .dataframe thead th {\n",
       "        text-align: right;\n",
       "    }\n",
       "</style>\n",
       "<table border=\"1\" class=\"dataframe\">\n",
       "  <thead>\n",
       "    <tr style=\"text-align: right;\">\n",
       "      <th></th>\n",
       "      <th>Internet Speed in Mbps</th>\n",
       "      <th>Bundle Price in BWP</th>\n",
       "      <th>Price per Mbps in BWP</th>\n",
       "      <th>LM Prices per Mbps in BWP</th>\n",
       "      <th>EM Prices per Mbps in BWP</th>\n",
       "    </tr>\n",
       "  </thead>\n",
       "  <tbody>\n",
       "    <tr>\n",
       "      <th>0</th>\n",
       "      <td>5</td>\n",
       "      <td>450</td>\n",
       "      <td>90.0</td>\n",
       "      <td>84.257143</td>\n",
       "      <td>89.378776</td>\n",
       "    </tr>\n",
       "    <tr>\n",
       "      <th>1</th>\n",
       "      <td>10</td>\n",
       "      <td>840</td>\n",
       "      <td>84.0</td>\n",
       "      <td>78.340816</td>\n",
       "      <td>79.011775</td>\n",
       "    </tr>\n",
       "    <tr>\n",
       "      <th>2</th>\n",
       "      <td>25</td>\n",
       "      <td>1030</td>\n",
       "      <td>41.2</td>\n",
       "      <td>60.591837</td>\n",
       "      <td>54.583836</td>\n",
       "    </tr>\n",
       "    <tr>\n",
       "      <th>3</th>\n",
       "      <td>50</td>\n",
       "      <td>1950</td>\n",
       "      <td>39.0</td>\n",
       "      <td>31.010204</td>\n",
       "      <td>29.468031</td>\n",
       "    </tr>\n",
       "  </tbody>\n",
       "</table>\n",
       "</div>"
      ],
      "text/plain": [
       "   Internet Speed in Mbps  Bundle Price in BWP  Price per Mbps in BWP  \\\n",
       "0                       5                  450                   90.0   \n",
       "1                      10                  840                   84.0   \n",
       "2                      25                 1030                   41.2   \n",
       "3                      50                 1950                   39.0   \n",
       "\n",
       "   LM Prices per Mbps in BWP  EM Prices per Mbps in BWP  \n",
       "0                  84.257143                  89.378776  \n",
       "1                  78.340816                  79.011775  \n",
       "2                  60.591837                  54.583836  \n",
       "3                  31.010204                  29.468031  "
      ]
     },
     "execution_count": 64,
     "metadata": {},
     "output_type": "execute_result"
    }
   ],
   "source": [
    "def exponential(x,a,b):\n",
    "    return a*np.exp(b*x)\n",
    "\n",
    "pars, cov = curve_fit(f=exponential, xdata = df['Internet Speed in Mbps'], ydata = df['Price per Mbps in BWP'],p0=[0, 0], bounds=(-np.inf, np.inf))\n",
    "pars\n",
    "df['EM Prices per Mbps in BWP'] = pars[0]*np.exp(pars[1]*df['Internet Speed in Mbps'])\n",
    "df"
   ]
  },
  {
   "cell_type": "markdown",
   "metadata": {},
   "source": [
    "We add the exponential fit to our plot."
   ]
  },
  {
   "cell_type": "code",
   "execution_count": 65,
   "metadata": {},
   "outputs": [
    {
     "data": {
      "image/png": "[encoded data removed]",
      "text/plain": [
       "<Figure size 432x288 with 1 Axes>"
      ]
     },
     "metadata": {
      "needs_background": "light"
     },
     "output_type": "display_data"
    }
   ],
   "source": [
    "df.plot(x = 'Internet Speed in Mbps', y = ['Price per Mbps in BWP', 'LM Prices per Mbps in BWP','EM Prices per Mbps in BWP'], kind = 'line')\n",
    "plt.show()"
   ]
  },
  {
   "cell_type": "markdown",
   "metadata": {},
   "source": [
    "Now we determine the bundle prices if we use each of the pricing strategies recommended by the Linear model and the exponential model."
   ]
  },
  {
   "cell_type": "code",
   "execution_count": 66,
   "metadata": {},
   "outputs": [
    {
     "data": {
      "text/html": [
       "<div>\n",
       "<style scoped>\n",
       "    .dataframe tbody tr th:only-of-type {\n",
       "        vertical-align: middle;\n",
       "    }\n",
       "\n",
       "    .dataframe tbody tr th {\n",
       "        vertical-align: top;\n",
       "    }\n",
       "\n",
       "    .dataframe thead th {\n",
       "        text-align: right;\n",
       "    }\n",
       "</style>\n",
       "<table border=\"1\" class=\"dataframe\">\n",
       "  <thead>\n",
       "    <tr style=\"text-align: right;\">\n",
       "      <th></th>\n",
       "      <th>Internet Speed in Mbps</th>\n",
       "      <th>Bundle Price in BWP</th>\n",
       "      <th>Price per Mbps in BWP</th>\n",
       "      <th>LM Prices per Mbps in BWP</th>\n",
       "      <th>EM Prices per Mbps in BWP</th>\n",
       "      <th>LM Bundle Price</th>\n",
       "      <th>EM Bundle Price</th>\n",
       "    </tr>\n",
       "  </thead>\n",
       "  <tbody>\n",
       "    <tr>\n",
       "      <th>0</th>\n",
       "      <td>5</td>\n",
       "      <td>450</td>\n",
       "      <td>90.0</td>\n",
       "      <td>84.257143</td>\n",
       "      <td>89.378776</td>\n",
       "      <td>421.285714</td>\n",
       "      <td>446.893880</td>\n",
       "    </tr>\n",
       "    <tr>\n",
       "      <th>1</th>\n",
       "      <td>10</td>\n",
       "      <td>840</td>\n",
       "      <td>84.0</td>\n",
       "      <td>78.340816</td>\n",
       "      <td>79.011775</td>\n",
       "      <td>783.408163</td>\n",
       "      <td>790.117746</td>\n",
       "    </tr>\n",
       "    <tr>\n",
       "      <th>2</th>\n",
       "      <td>25</td>\n",
       "      <td>1030</td>\n",
       "      <td>41.2</td>\n",
       "      <td>60.591837</td>\n",
       "      <td>54.583836</td>\n",
       "      <td>1514.795918</td>\n",
       "      <td>1364.595907</td>\n",
       "    </tr>\n",
       "    <tr>\n",
       "      <th>3</th>\n",
       "      <td>50</td>\n",
       "      <td>1950</td>\n",
       "      <td>39.0</td>\n",
       "      <td>31.010204</td>\n",
       "      <td>29.468031</td>\n",
       "      <td>1550.510204</td>\n",
       "      <td>1473.401562</td>\n",
       "    </tr>\n",
       "  </tbody>\n",
       "</table>\n",
       "</div>"
      ],
      "text/plain": [
       "   Internet Speed in Mbps  Bundle Price in BWP  Price per Mbps in BWP  \\\n",
       "0                       5                  450                   90.0   \n",
       "1                      10                  840                   84.0   \n",
       "2                      25                 1030                   41.2   \n",
       "3                      50                 1950                   39.0   \n",
       "\n",
       "   LM Prices per Mbps in BWP  EM Prices per Mbps in BWP  LM Bundle Price  \\\n",
       "0                  84.257143                  89.378776       421.285714   \n",
       "1                  78.340816                  79.011775       783.408163   \n",
       "2                  60.591837                  54.583836      1514.795918   \n",
       "3                  31.010204                  29.468031      1550.510204   \n",
       "\n",
       "   EM Bundle Price  \n",
       "0       446.893880  \n",
       "1       790.117746  \n",
       "2      1364.595907  \n",
       "3      1473.401562  "
      ]
     },
     "execution_count": 66,
     "metadata": {},
     "output_type": "execute_result"
    }
   ],
   "source": [
    "df['LM Bundle Price'] = df['Internet Speed in Mbps']*df['LM Prices per Mbps in BWP']\n",
    "df['EM Bundle Price'] = df['Internet Speed in Mbps']*df['EM Prices per Mbps in BWP']\n",
    "df"
   ]
  },
  {
   "cell_type": "markdown",
   "metadata": {},
   "source": [
    "We notice that the linear and exponential models significantly reduces the price of the fastest bundle. If we assume the objective of the company is to charge as much as they can for each price point, then they can charge the maximum of the 3 strategies for each internet speed. "
   ]
  },
  {
   "cell_type": "code",
   "execution_count": 67,
   "metadata": {},
   "outputs": [
    {
     "data": {
      "text/html": [
       "<div>\n",
       "<style scoped>\n",
       "    .dataframe tbody tr th:only-of-type {\n",
       "        vertical-align: middle;\n",
       "    }\n",
       "\n",
       "    .dataframe tbody tr th {\n",
       "        vertical-align: top;\n",
       "    }\n",
       "\n",
       "    .dataframe thead th {\n",
       "        text-align: right;\n",
       "    }\n",
       "</style>\n",
       "<table border=\"1\" class=\"dataframe\">\n",
       "  <thead>\n",
       "    <tr style=\"text-align: right;\">\n",
       "      <th></th>\n",
       "      <th>Internet Speed in Mbps</th>\n",
       "      <th>Bundle Price in BWP</th>\n",
       "      <th>Price per Mbps in BWP</th>\n",
       "      <th>LM Prices per Mbps in BWP</th>\n",
       "      <th>EM Prices per Mbps in BWP</th>\n",
       "      <th>LM Bundle Price</th>\n",
       "      <th>EM Bundle Price</th>\n",
       "      <th>Maximum Price</th>\n",
       "    </tr>\n",
       "  </thead>\n",
       "  <tbody>\n",
       "    <tr>\n",
       "      <th>0</th>\n",
       "      <td>5</td>\n",
       "      <td>450</td>\n",
       "      <td>90.0</td>\n",
       "      <td>84.257143</td>\n",
       "      <td>89.378776</td>\n",
       "      <td>421.285714</td>\n",
       "      <td>446.893880</td>\n",
       "      <td>450.000000</td>\n",
       "    </tr>\n",
       "    <tr>\n",
       "      <th>1</th>\n",
       "      <td>10</td>\n",
       "      <td>840</td>\n",
       "      <td>84.0</td>\n",
       "      <td>78.340816</td>\n",
       "      <td>79.011775</td>\n",
       "      <td>783.408163</td>\n",
       "      <td>790.117746</td>\n",
       "      <td>840.000000</td>\n",
       "    </tr>\n",
       "    <tr>\n",
       "      <th>2</th>\n",
       "      <td>25</td>\n",
       "      <td>1030</td>\n",
       "      <td>41.2</td>\n",
       "      <td>60.591837</td>\n",
       "      <td>54.583836</td>\n",
       "      <td>1514.795918</td>\n",
       "      <td>1364.595907</td>\n",
       "      <td>1514.795918</td>\n",
       "    </tr>\n",
       "    <tr>\n",
       "      <th>3</th>\n",
       "      <td>50</td>\n",
       "      <td>1950</td>\n",
       "      <td>39.0</td>\n",
       "      <td>31.010204</td>\n",
       "      <td>29.468031</td>\n",
       "      <td>1550.510204</td>\n",
       "      <td>1473.401562</td>\n",
       "      <td>1950.000000</td>\n",
       "    </tr>\n",
       "  </tbody>\n",
       "</table>\n",
       "</div>"
      ],
      "text/plain": [
       "   Internet Speed in Mbps  Bundle Price in BWP  Price per Mbps in BWP  \\\n",
       "0                       5                  450                   90.0   \n",
       "1                      10                  840                   84.0   \n",
       "2                      25                 1030                   41.2   \n",
       "3                      50                 1950                   39.0   \n",
       "\n",
       "   LM Prices per Mbps in BWP  EM Prices per Mbps in BWP  LM Bundle Price  \\\n",
       "0                  84.257143                  89.378776       421.285714   \n",
       "1                  78.340816                  79.011775       783.408163   \n",
       "2                  60.591837                  54.583836      1514.795918   \n",
       "3                  31.010204                  29.468031      1550.510204   \n",
       "\n",
       "   EM Bundle Price  Maximum Price  \n",
       "0       446.893880     450.000000  \n",
       "1       790.117746     840.000000  \n",
       "2      1364.595907    1514.795918  \n",
       "3      1473.401562    1950.000000  "
      ]
     },
     "execution_count": 67,
     "metadata": {},
     "output_type": "execute_result"
    }
   ],
   "source": [
    "df['Maximum Price'] = df[['Bundle Price in BWP','LM Bundle Price','EM Bundle Price']].max(axis = 1)\n",
    "df"
   ]
  },
  {
   "cell_type": "markdown",
   "metadata": {},
   "source": [
    "The maximum price suggests that the current pricing strategy works fine, but that they can charge even more for the 25Mbps bundle. Whether or not they increase the price of this bundle to BWP1,515 (an almost 50% price increase) depends on the demand function for that particular bundle. Specifically, it depends on how many current subscribers they can expect to churn out. A price increase can be hard to sell, but if they decrease the 5Mbps bundle down to the LM Price, decrease the price of the 10Mbps bundle down to the EM Price, increase the price of the 25Mbps bundle to the EM price, and reduce the price of the 50Mbps to BWP1890. The prices of recommended by the LM and EM models are far too low, hence why I recommend just a small decrease for the big bundle. When annoucing the price changes, the marketing should focus on the price decrease on the 5,10, and 50 Mbps bundle. This way they make the necessary adjustment with minimal damage to the reputation. My guess is some people will stay on even with the price increase, and for those that are unhappy they will simply downgrade to a slower speed. "
   ]
  },
  {
   "cell_type": "code",
   "execution_count": 68,
   "metadata": {},
   "outputs": [
    {
     "data": {
      "text/html": [
       "<div>\n",
       "<style scoped>\n",
       "    .dataframe tbody tr th:only-of-type {\n",
       "        vertical-align: middle;\n",
       "    }\n",
       "\n",
       "    .dataframe tbody tr th {\n",
       "        vertical-align: top;\n",
       "    }\n",
       "\n",
       "    .dataframe thead th {\n",
       "        text-align: right;\n",
       "    }\n",
       "</style>\n",
       "<table border=\"1\" class=\"dataframe\">\n",
       "  <thead>\n",
       "    <tr style=\"text-align: right;\">\n",
       "      <th></th>\n",
       "      <th>Internet Speed in Mbps</th>\n",
       "      <th>Current Price in BWP</th>\n",
       "      <th>Price per Mbps in BWP</th>\n",
       "      <th>Recommended Price in BWP</th>\n",
       "      <th>Recommended Price per Mbps in BWP</th>\n",
       "    </tr>\n",
       "  </thead>\n",
       "  <tbody>\n",
       "    <tr>\n",
       "      <th>0</th>\n",
       "      <td>5</td>\n",
       "      <td>450</td>\n",
       "      <td>90.0</td>\n",
       "      <td>420</td>\n",
       "      <td>84.0</td>\n",
       "    </tr>\n",
       "    <tr>\n",
       "      <th>1</th>\n",
       "      <td>10</td>\n",
       "      <td>840</td>\n",
       "      <td>84.0</td>\n",
       "      <td>790</td>\n",
       "      <td>79.0</td>\n",
       "    </tr>\n",
       "    <tr>\n",
       "      <th>2</th>\n",
       "      <td>25</td>\n",
       "      <td>1030</td>\n",
       "      <td>41.2</td>\n",
       "      <td>1360</td>\n",
       "      <td>54.4</td>\n",
       "    </tr>\n",
       "    <tr>\n",
       "      <th>3</th>\n",
       "      <td>50</td>\n",
       "      <td>1950</td>\n",
       "      <td>39.0</td>\n",
       "      <td>1890</td>\n",
       "      <td>37.8</td>\n",
       "    </tr>\n",
       "  </tbody>\n",
       "</table>\n",
       "</div>"
      ],
      "text/plain": [
       "   Internet Speed in Mbps  Current Price in BWP  Price per Mbps in BWP  \\\n",
       "0                       5                   450                   90.0   \n",
       "1                      10                   840                   84.0   \n",
       "2                      25                  1030                   41.2   \n",
       "3                      50                  1950                   39.0   \n",
       "\n",
       "   Recommended Price in BWP  Recommended Price per Mbps in BWP  \n",
       "0                       420                               84.0  \n",
       "1                       790                               79.0  \n",
       "2                      1360                               54.4  \n",
       "3                      1890                               37.8  "
      ]
     },
     "execution_count": 68,
     "metadata": {},
     "output_type": "execute_result"
    }
   ],
   "source": [
    "df_final = pd.DataFrame()\n",
    "df_final[['Internet Speed in Mbps', 'Current Price in BWP', 'Price per Mbps in BWP']] = df[['Internet Speed in Mbps', 'Bundle Price in BWP','Price per Mbps in BWP']]\n",
    "df_final['Recommended Price in BWP'] = [420, 790, 1360, 1890]\n",
    "df_final['Recommended Price per Mbps in BWP'] = df_final['Recommended Price in BWP']/df_final['Internet Speed in Mbps']\n",
    "df_final"
   ]
  },
  {
   "cell_type": "markdown",
   "metadata": {},
   "source": [
    "Disclaimer: The reader should remember that all models are wrong, but some are insightful. "
   ]
  },
  {
   "cell_type": "markdown",
   "metadata": {},
   "source": []
  }
 ],
 "metadata": {
  "kernelspec": {
   "display_name": "Python 3",
   "language": "python",
   "name": "python3"
  },
  "language_info": {
   "codemirror_mode": {
    "name": "ipython",
    "version": 3
   },
   "file_extension": ".py",
   "mimetype": "text/x-python",
   "name": "python",
   "nbconvert_exporter": "python",
   "pygments_lexer": "ipython3",
   "version": "3.8.5"
  }
 },
 "nbformat": 4,
 "nbformat_minor": 4
}
